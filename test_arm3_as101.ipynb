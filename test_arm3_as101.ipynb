{
 "cells": [
  {
   "cell_type": "code",
   "execution_count": 1,
   "id": "37079ce5-86f2-405e-a2c6-7c2a1c6fb2a1",
   "metadata": {},
   "outputs": [],
   "source": [
    "import numpy as np\n",
    "import pandas as pd\n",
    "\n",
    "from mabwiser.mab import MAB, LearningPolicy\n",
    "\n",
    "######################################################################################\n",
    "#\n",
    "# MABWiser\n",
    "# Scenario: A/B Testing for Website Layout Design\n",
    "#\n",
    "# An e-commerce website experiments with 2 different layouts options for their homepage\n",
    "# Each layouts decision leads to generating different revenues\n",
    "#\n",
    "# What should the choice of layouts be based on historical data?\n",
    "#\n",
    "######################################################################################\n"
   ]
  },
  {
   "cell_type": "code",
   "execution_count": 2,
   "id": "291fe24d-7485-4eb1-97a5-2e025ce33f52",
   "metadata": {},
   "outputs": [],
   "source": [
    "# Arms\n",
    "options = [1, 2]\n",
    "\n",
    "# Historical data of layouts decisions and corresponding rewards\n",
    "layouts = [1, 1,    1,  2, 1, 2, 2, 1, 2,  1,  2, 2, 1, 2, 1]\n",
    "revenues = [10, 17, 22, 9, 4, 0, 7, 8, 20, 9, 50, 5, 7, 12, 10]\n",
    "\n",
    "# Arm to features\n",
    "arm_to_features = {1: [0, 0, 1], 2: [1, 1, 0], 3: [1, 0, 1]}"
   ]
  },
  {
   "cell_type": "code",
   "execution_count": 3,
   "id": "5fb62939-1e2b-4767-b0c3-43f2bb3a109a",
   "metadata": {},
   "outputs": [],
   "source": [
    "###################################\n",
    "# Epsilon Greedy Learning Policy\n",
    "###################################\n",
    "\n",
    "# Epsilon Greedy learning policy with random exploration set to 15%\n",
    "greedy = MAB(arms=options,\n",
    "             learning_policy=LearningPolicy.EpsilonGreedy(epsilon=0.15),\n",
    "             seed=123456)\n",
    "\n",
    "# Learn from previous layouts decisions and revenues generated\n",
    "greedy.fit(decisions=layouts, rewards=revenues)"
   ]
  },
  {
   "cell_type": "code",
   "execution_count": 4,
   "id": "067cfb30-2bdb-48ab-8cbb-4df93cc06314",
   "metadata": {},
   "outputs": [
    {
     "name": "stdout",
     "output_type": "stream",
     "text": [
      "None\n"
     ]
    }
   ],
   "source": [
    "print(greedy.neighborhood_policy)"
   ]
  },
  {
   "cell_type": "code",
   "execution_count": 5,
   "id": "e38cca8d-006b-47b2-80b9-19518aeea10d",
   "metadata": {},
   "outputs": [],
   "source": [
    "# Predict the next best layouts decision\n",
    "prediction = greedy.predict()"
   ]
  },
  {
   "cell_type": "code",
   "execution_count": 6,
   "id": "749e4a78-fa3d-4b24-a23e-b6142446c9a6",
   "metadata": {},
   "outputs": [],
   "source": [
    "# Expected revenues of each layouts learnt from historical data based on epsilon greedy policy\n",
    "expectations = greedy.predict_expectations()"
   ]
  },
  {
   "cell_type": "code",
   "execution_count": 7,
   "id": "19e8064e-d7e3-4c28-8d0d-17a41193e518",
   "metadata": {},
   "outputs": [
    {
     "name": "stdout",
     "output_type": "stream",
     "text": [
      "Epsilon Greedy:  2   {1: 10.875, 2: 14.714285714285714}\n"
     ]
    }
   ],
   "source": [
    "# Results\n",
    "print(\"Epsilon Greedy: \", prediction, \" \", expectations)\n",
    "assert(prediction == 2)"
   ]
  },
  {
   "cell_type": "code",
   "execution_count": 8,
   "id": "5ae54c44-97b9-4793-bdc3-37649601715c",
   "metadata": {},
   "outputs": [
    {
     "data": {
      "text/plain": [
       "10.875"
      ]
     },
     "execution_count": 8,
     "metadata": {},
     "output_type": "execute_result"
    }
   ],
   "source": [
    "np.average([10,17, 22, 4, 8, 9, 7, 10])"
   ]
  },
  {
   "cell_type": "code",
   "execution_count": 9,
   "id": "5bd9da87-5ea6-4483-b27a-e54b82ddea4f",
   "metadata": {},
   "outputs": [
    {
     "data": {
      "text/plain": [
       "14.714285714285714"
      ]
     },
     "execution_count": 9,
     "metadata": {},
     "output_type": "execute_result"
    }
   ],
   "source": [
    "np.average([9,0,7,20,50,5,12])"
   ]
  },
  {
   "cell_type": "code",
   "execution_count": 10,
   "id": "bf81e66f-3716-4ead-83b9-defd42e4d14c",
   "metadata": {},
   "outputs": [],
   "source": [
    "# Additional historical data becomes available which allows _online learning\n",
    "additional_layouts = [1, 2, 1, 2]\n",
    "additional_revenues = [0, 12, 7, 19]\n",
    "\n",
    "# Online updating of the model\n",
    "greedy.partial_fit(additional_layouts, additional_revenues)"
   ]
  },
  {
   "cell_type": "code",
   "execution_count": 11,
   "id": "ced33e93-67b0-4a1b-9249-5f88cb85f83a",
   "metadata": {},
   "outputs": [
    {
     "data": {
      "text/plain": [
       "{1: 0.9552527396157818, 2: 0.906050936603124}"
      ]
     },
     "execution_count": 11,
     "metadata": {},
     "output_type": "execute_result"
    }
   ],
   "source": [
    "greedy.predict_expectations() # これ何"
   ]
  },
  {
   "cell_type": "code",
   "execution_count": 12,
   "id": "cacf3f14-6ed1-45b5-94e9-31750984ae31",
   "metadata": {},
   "outputs": [
    {
     "name": "stdout",
     "output_type": "stream",
     "text": [
      "arm:3\n"
     ]
    }
   ],
   "source": [
    "# Adding a new layout option\n",
    "greedy.add_arm(3)"
   ]
  },
  {
   "cell_type": "code",
   "execution_count": 13,
   "id": "418a3775-d8c3-4133-a2bd-4e1f5272a958",
   "metadata": {},
   "outputs": [
    {
     "name": "stdout",
     "output_type": "stream",
     "text": [
      "copy\n",
      "cold_arm_to_warm_arm:{3: 1}\n",
      "cold:3, warm:1\n"
     ]
    }
   ],
   "source": [
    "# Warm start new arm\n",
    "greedy.warm_start(arm_to_features, distance_quantile=0.5)"
   ]
  },
  {
   "cell_type": "code",
   "execution_count": 14,
   "id": "8093e574-1c90-4815-94ac-4a6746f4fdda",
   "metadata": {},
   "outputs": [
    {
     "data": {
      "text/plain": [
       "{1: 9.4, 2: 14.88888888888889, 3: 9.4}"
      ]
     },
     "execution_count": 14,
     "metadata": {},
     "output_type": "execute_result"
    }
   ],
   "source": [
    "greedy.predict_expectations()"
   ]
  },
  {
   "cell_type": "code",
   "execution_count": 15,
   "id": "69939a3b-5140-401d-849a-b52951bccef1",
   "metadata": {},
   "outputs": [
    {
     "data": {
      "text/plain": [
       "9.4"
      ]
     },
     "execution_count": 15,
     "metadata": {},
     "output_type": "execute_result"
    }
   ],
   "source": [
    "np.average([10,17, 22, 4, 8, 9, 7, 10, 0, 7])"
   ]
  },
  {
   "cell_type": "code",
   "execution_count": 16,
   "id": "8e3a2122-6fd9-42c6-ac90-90db9cc904f8",
   "metadata": {},
   "outputs": [
    {
     "data": {
      "text/plain": [
       "14.88888888888889"
      ]
     },
     "execution_count": 16,
     "metadata": {},
     "output_type": "execute_result"
    }
   ],
   "source": [
    "np.average([9,0,7,20,50,5,12, 12, 19])"
   ]
  },
  {
   "cell_type": "code",
   "execution_count": null,
   "id": "2205781a-2c07-4ca5-8780-5c16e585a4a0",
   "metadata": {},
   "outputs": [],
   "source": []
  }
 ],
 "metadata": {
  "kernelspec": {
   "display_name": "Python 3 (ipykernel)",
   "language": "python",
   "name": "python3"
  },
  "language_info": {
   "codemirror_mode": {
    "name": "ipython",
    "version": 3
   },
   "file_extension": ".py",
   "mimetype": "text/x-python",
   "name": "python",
   "nbconvert_exporter": "python",
   "pygments_lexer": "ipython3",
   "version": "3.12.0"
  }
 },
 "nbformat": 4,
 "nbformat_minor": 5
}
